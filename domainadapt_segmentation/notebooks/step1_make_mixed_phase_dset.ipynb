{
 "cells": [
  {
   "cell_type": "code",
   "execution_count": 2,
   "metadata": {},
   "outputs": [],
   "source": [
    "import pickle as pkl"
   ]
  },
  {
   "cell_type": "code",
   "execution_count": null,
   "metadata": {},
   "outputs": [],
   "source": [
    "with open(\"../datasets/kits23.pkl\", \"rb\") as f:\n",
    "    kits_tr, kits_val, kits_ts = pkl.load(f)"
   ]
  },
  {
   "cell_type": "code",
   "execution_count": null,
   "metadata": {},
   "outputs": [],
   "source": [
    "with open(\"../datasets/stu.pkl\", \"rb\") as f:\n",
    "    stu_tr, stu_val, stu_ts = pkl.load(f)"
   ]
  },
  {
   "cell_type": "code",
   "execution_count": null,
   "metadata": {},
   "outputs": [],
   "source": [
    "train, val, test = list(), list(), list()\n",
    "train.extend(kits_tr)\n",
    "train.extend(stu_tr)\n",
    "val.extend(kits_val)\n",
    "val.extend(stu_val)\n",
    "test.extend(kits_ts)\n",
    "test.extend(stu_ts)"
   ]
  },
  {
   "cell_type": "code",
   "execution_count": null,
   "metadata": {},
   "outputs": [],
   "source": [
    "mixed_dset = (train, val, test)"
   ]
  },
  {
   "cell_type": "code",
   "execution_count": null,
   "metadata": {},
   "outputs": [],
   "source": [
    "with open(\"../datasets/mixed_dset.pkl\", \"wb\") as f:\n",
    "    pkl.dump(mixed_dset, f)"
   ]
  }
 ],
 "metadata": {
  "kernelspec": {
   "display_name": "rad_euro",
   "language": "python",
   "name": "python3"
  },
  "language_info": {
   "codemirror_mode": {
    "name": "ipython",
    "version": 3
   },
   "file_extension": ".py",
   "mimetype": "text/x-python",
   "name": "python",
   "nbconvert_exporter": "python",
   "pygments_lexer": "ipython3",
   "version": "3.10.15"
  }
 },
 "nbformat": 4,
 "nbformat_minor": 2
}
